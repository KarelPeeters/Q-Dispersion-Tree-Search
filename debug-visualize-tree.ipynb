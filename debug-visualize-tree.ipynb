{
 "cells": [
  {
   "cell_type": "code",
   "execution_count": 1,
   "id": "5dc1e920",
   "metadata": {},
   "outputs": [],
   "source": [
    "%load_ext autoreload\n",
    "%autoreload 2"
   ]
  },
  {
   "cell_type": "code",
   "execution_count": 2,
   "id": "79e93631",
   "metadata": {},
   "outputs": [
    {
     "data": {
      "application/javascript": [
       "\n",
       "    IPython.OutputArea.prototype._should_scroll = function(lines) {\n",
       "        return false;\n",
       "    }\n",
       "    "
      ],
      "text/plain": [
       "<IPython.core.display.Javascript object>"
      ]
     },
     "metadata": {},
     "output_type": "display_data"
    }
   ],
   "source": [
    "from IPython.display import display, Javascript\n",
    "\n",
    "def disable_scroll():\n",
    "    display(Javascript(\"\"\"\n",
    "    IPython.OutputArea.prototype._should_scroll = function(lines) {\n",
    "        return false;\n",
    "    }\n",
    "    \"\"\"))\n",
    "\n",
    "disable_scroll()"
   ]
  },
  {
   "cell_type": "code",
   "execution_count": 3,
   "id": "be4bdae5",
   "metadata": {},
   "outputs": [],
   "source": [
    "from KuhnPoker import KuhnPokerModel, KuhnPokerInfoSet, Card, TensorModel\n",
    "from TreeVisualizer import plot_trees\n",
    "\n",
    "import numpy as np\n",
    "import pickle\n",
    "import ipywidgets as widgets\n",
    "from IPython.display import display\n",
    "\n",
    "\n",
    "np.set_printoptions(precision=2)"
   ]
  },
  {
   "cell_type": "code",
   "execution_count": 22,
   "id": "af381ab5",
   "metadata": {},
   "outputs": [],
   "source": [
    "with open(f'debug/tree_snapshots.pkl', 'rb') as file:\n",
    "    trees_hist = pickle.load(file)"
   ]
  },
  {
   "cell_type": "code",
   "execution_count": 23,
   "id": "9a7f3da0",
   "metadata": {},
   "outputs": [
    {
     "data": {
      "application/vnd.jupyter.widget-view+json": {
       "model_id": "dca6129624144d0abf285f282c254721",
       "version_major": 2,
       "version_minor": 0
      },
      "text/plain": [
       "interactive(children=(IntSlider(value=0, description='Hist Index', max=1000), Output()), _dom_classes=('widget…"
      ]
     },
     "execution_count": 23,
     "metadata": {},
     "output_type": "execute_result"
    }
   ],
   "source": [
    "slider = widgets.IntSlider(min=0, max=len(trees_hist)-1, step=1, description='Hist Index')\n",
    "\n",
    "def update_plot(index):\n",
    "    plot_trees(trees_hist[index])\n",
    "    \n",
    "widgets.interactive(update_plot, index=slider)"
   ]
  },
  {
   "cell_type": "code",
   "execution_count": 24,
   "id": "1f7c324c",
   "metadata": {},
   "outputs": [
    {
     "data": {
      "text/plain": [
       "0.43000000000000005"
      ]
     },
     "execution_count": 24,
     "metadata": {},
     "output_type": "execute_result"
    }
   ],
   "source": [
    "-2 * 0.19 + 1 * 0.81"
   ]
  },
  {
   "cell_type": "code",
   "execution_count": null,
   "id": "7b3e9958",
   "metadata": {},
   "outputs": [],
   "source": []
  }
 ],
 "metadata": {
  "kernelspec": {
   "display_name": "Python 3 (ipykernel)",
   "language": "python",
   "name": "python3"
  },
  "language_info": {
   "codemirror_mode": {
    "name": "ipython",
    "version": 3
   },
   "file_extension": ".py",
   "mimetype": "text/x-python",
   "name": "python",
   "nbconvert_exporter": "python",
   "pygments_lexer": "ipython3",
   "version": "3.11.4"
  }
 },
 "nbformat": 4,
 "nbformat_minor": 5
}
