{
 "cells": [
  {
   "cell_type": "code",
   "execution_count": 1,
   "id": "5dc1e920",
   "metadata": {},
   "outputs": [],
   "source": [
    "%load_ext autoreload\n",
    "%autoreload 2"
   ]
  },
  {
   "cell_type": "code",
   "execution_count": 2,
   "id": "be4bdae5",
   "metadata": {},
   "outputs": [],
   "source": [
    "from KuhnPoker import KuhnPokerModel, KuhnPokerInfoSet, Card\n",
    "from TreeVisualizer import plot_trees\n",
    "\n",
    "import numpy as np\n",
    "import pickle\n",
    "import ipywidgets as widgets\n",
    "from IPython.display import display\n",
    "\n",
    "\n",
    "np.set_printoptions(precision=3)"
   ]
  },
  {
   "cell_type": "code",
   "execution_count": 15,
   "id": "2bf0714a",
   "metadata": {},
   "outputs": [],
   "source": [
    "with open(f'debug/tree_snapshots.pkl', 'rb') as file:\n",
    "    trees_hist = pickle.load(file)"
   ]
  },
  {
   "cell_type": "code",
   "execution_count": 16,
   "id": "9a7f3da0",
   "metadata": {
    "scrolled": false
   },
   "outputs": [
    {
     "data": {
      "application/vnd.jupyter.widget-view+json": {
       "model_id": "737c0c66d8f54fa9bf1b5196dfc5afbf",
       "version_major": 2,
       "version_minor": 0
      },
      "text/plain": [
       "interactive(children=(IntSlider(value=0, description='Hist Index', max=1000), Output()), _dom_classes=('widget…"
      ]
     },
     "execution_count": 16,
     "metadata": {},
     "output_type": "execute_result"
    }
   ],
   "source": [
    "slider = widgets.IntSlider(min=0, max=len(trees_hist)-1, step=1, description='Hist Index')\n",
    "\n",
    "def update_plot(index):\n",
    "    plot_trees(trees_hist[index])\n",
    "    \n",
    "widgets.interactive(update_plot, index=slider)"
   ]
  },
  {
   "cell_type": "code",
   "execution_count": null,
   "id": "4d9758d6",
   "metadata": {},
   "outputs": [],
   "source": []
  },
  {
   "cell_type": "code",
   "execution_count": null,
   "id": "fafe1ab9",
   "metadata": {},
   "outputs": [],
   "source": []
  }
 ],
 "metadata": {
  "kernelspec": {
   "display_name": "Python 3 (ipykernel)",
   "language": "python",
   "name": "python3"
  },
  "language_info": {
   "codemirror_mode": {
    "name": "ipython",
    "version": 3
   },
   "file_extension": ".py",
   "mimetype": "text/x-python",
   "name": "python",
   "nbconvert_exporter": "python",
   "pygments_lexer": "ipython3",
   "version": "3.11.4"
  }
 },
 "nbformat": 4,
 "nbformat_minor": 5
}
