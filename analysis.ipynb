{
 "cells": [
  {
   "cell_type": "code",
   "execution_count": 1,
   "id": "c56cde84",
   "metadata": {},
   "outputs": [],
   "source": [
    "%load_ext autoreload\n",
    "%autoreload 2"
   ]
  },
  {
   "cell_type": "code",
   "execution_count": 2,
   "id": "66ba1bbd",
   "metadata": {},
   "outputs": [
    {
     "data": {
      "text/html": [
       "<style>.container { width:100% !important; }</style>"
      ],
      "text/plain": [
       "<IPython.core.display.HTML object>"
      ]
     },
     "execution_count": 2,
     "metadata": {},
     "output_type": "execute_result"
    }
   ],
   "source": [
    "from IPython.core.display import HTML\n",
    "HTML(\"<style>.container { width:100% !important; }</style>\")"
   ]
  },
  {
   "cell_type": "code",
   "execution_count": 3,
   "id": "86e88d93",
   "metadata": {},
   "outputs": [],
   "source": [
    "from KuhnPoker import KuhnPokerModel, KuhnPokerInfoSet, ActionNode, PASS, ADD_CHIP, Card, TensorModel, SamplingNode\n",
    "from ISMCTS import Tree, Constants\n",
    "from AlphaZero import NNModel, SelfPlayDataV, SelfPlayDataP\n",
    "\n",
    "import numpy as np\n",
    "import pickle\n",
    "import pandas as pd\n",
    "from tqdm import tqdm\n",
    "import matplotlib.pyplot as plt\n",
    "\n",
    "import torch"
   ]
  },
  {
   "cell_type": "code",
   "execution_count": 4,
   "id": "df9c5997",
   "metadata": {},
   "outputs": [],
   "source": [
    "start_ix = 0\n",
    "num_model = 256"
   ]
  },
  {
   "cell_type": "code",
   "execution_count": 5,
   "id": "029ca280",
   "metadata": {},
   "outputs": [],
   "source": [
    "vmodel = []\n",
    "pmodel = []\n",
    "\n",
    "for i in range(start_ix, start_ix + num_model):\n",
    "    vmodel.append(torch.load(f'model/vmodel-{i}.pt'))\n",
    "    pmodel.append(torch.load(f'model/pmodel-{i}.pt'))"
   ]
  },
  {
   "cell_type": "code",
   "execution_count": 6,
   "id": "715f7f16",
   "metadata": {},
   "outputs": [],
   "source": [
    "p_info_set = KuhnPokerInfoSet([0], [None, Card.JACK])\n",
    "q_info_set = KuhnPokerInfoSet([0, 1], [Card.QUEEN, None])\n",
    "j01_info_set = KuhnPokerInfoSet([0, 1], [None, Card.JACK])\n",
    "kj01_info_set = KuhnPokerInfoSet([0, 1], [Card.KING, Card.JACK])\n",
    "qj01_info_set = KuhnPokerInfoSet([0, 1], [Card.QUEEN, Card.JACK])"
   ]
  },
  {
   "cell_type": "code",
   "execution_count": 7,
   "id": "fe3a1125",
   "metadata": {},
   "outputs": [],
   "source": [
    "ps = []\n",
    "qs = []\n",
    "vs = []\n",
    "vs1 = []\n",
    "vs2 = []\n",
    "for i in range(num_model):\n",
    "    p = TensorModel(vmodel[i], pmodel[i]).eval_P(ActionNode(p_info_set))[1]\n",
    "    q = TensorModel(vmodel[i], pmodel[i]).eval_P(ActionNode(q_info_set))[1]\n",
    "    v, _ = TensorModel(vmodel[i], pmodel[i]).eval_V(SamplingNode(j01_info_set))\n",
    "    kj_node = ActionNode(kj01_info_set)\n",
    "    kj_node.spawned_tree = 1\n",
    "    v1, _ = TensorModel(vmodel[i], pmodel[i]).eval_V(kj_node)\n",
    "    qj_node = ActionNode(qj01_info_set)\n",
    "    qj_node.spawned_tree = 1\n",
    "    v2, _ = TensorModel(vmodel[i], pmodel[i]).eval_V(qj_node)\n",
    "    ps.append(p)\n",
    "    qs.append(q)\n",
    "    vs.append(v)\n",
    "    vs1.append(v1)\n",
    "    vs2.append(v2)\n",
    "df = pd.DataFrame({'p': ps, 'q': qs, 'v_?J[01]': vs, 'v_KJ[01]': vs1, 'v_QJ[01]': vs2})"
   ]
  },
  {
   "cell_type": "code",
   "execution_count": 8,
   "id": "b5719c32",
   "metadata": {},
   "outputs": [
    {
     "data": {
      "text/html": [
       "<div>\n",
       "<style scoped>\n",
       "    .dataframe tbody tr th:only-of-type {\n",
       "        vertical-align: middle;\n",
       "    }\n",
       "\n",
       "    .dataframe tbody tr th {\n",
       "        vertical-align: top;\n",
       "    }\n",
       "\n",
       "    .dataframe thead th {\n",
       "        text-align: right;\n",
       "    }\n",
       "</style>\n",
       "<table border=\"1\" class=\"dataframe\">\n",
       "  <thead>\n",
       "    <tr style=\"text-align: right;\">\n",
       "      <th></th>\n",
       "      <th>p</th>\n",
       "      <th>q</th>\n",
       "      <th>v_?J[01]</th>\n",
       "      <th>v_KJ[01]</th>\n",
       "      <th>v_QJ[01]</th>\n",
       "    </tr>\n",
       "  </thead>\n",
       "  <tbody>\n",
       "    <tr>\n",
       "      <th>0</th>\n",
       "      <td>0.333333</td>\n",
       "      <td>0.333333</td>\n",
       "      <td>0.253393</td>\n",
       "      <td>0.031782</td>\n",
       "      <td>-0.085364</td>\n",
       "    </tr>\n",
       "    <tr>\n",
       "      <th>1</th>\n",
       "      <td>0.333333</td>\n",
       "      <td>0.333333</td>\n",
       "      <td>1.068813</td>\n",
       "      <td>0.685151</td>\n",
       "      <td>0.465528</td>\n",
       "    </tr>\n",
       "    <tr>\n",
       "      <th>2</th>\n",
       "      <td>0.333333</td>\n",
       "      <td>0.333333</td>\n",
       "      <td>1.074450</td>\n",
       "      <td>0.029165</td>\n",
       "      <td>0.074021</td>\n",
       "    </tr>\n",
       "    <tr>\n",
       "      <th>3</th>\n",
       "      <td>0.333333</td>\n",
       "      <td>0.333333</td>\n",
       "      <td>0.608339</td>\n",
       "      <td>-0.488714</td>\n",
       "      <td>-0.262401</td>\n",
       "    </tr>\n",
       "    <tr>\n",
       "      <th>4</th>\n",
       "      <td>0.333333</td>\n",
       "      <td>0.333333</td>\n",
       "      <td>0.510397</td>\n",
       "      <td>-0.825797</td>\n",
       "      <td>-0.411283</td>\n",
       "    </tr>\n",
       "    <tr>\n",
       "      <th>...</th>\n",
       "      <td>...</td>\n",
       "      <td>...</td>\n",
       "      <td>...</td>\n",
       "      <td>...</td>\n",
       "      <td>...</td>\n",
       "    </tr>\n",
       "    <tr>\n",
       "      <th>251</th>\n",
       "      <td>0.333333</td>\n",
       "      <td>0.333333</td>\n",
       "      <td>-0.768873</td>\n",
       "      <td>-1.939717</td>\n",
       "      <td>0.036598</td>\n",
       "    </tr>\n",
       "    <tr>\n",
       "      <th>252</th>\n",
       "      <td>0.333333</td>\n",
       "      <td>0.333333</td>\n",
       "      <td>-1.375398</td>\n",
       "      <td>-1.926805</td>\n",
       "      <td>0.039856</td>\n",
       "    </tr>\n",
       "    <tr>\n",
       "      <th>253</th>\n",
       "      <td>0.333333</td>\n",
       "      <td>0.333333</td>\n",
       "      <td>-0.840167</td>\n",
       "      <td>-2.021745</td>\n",
       "      <td>-0.087574</td>\n",
       "    </tr>\n",
       "    <tr>\n",
       "      <th>254</th>\n",
       "      <td>0.333333</td>\n",
       "      <td>0.333333</td>\n",
       "      <td>-0.879993</td>\n",
       "      <td>-2.116560</td>\n",
       "      <td>-0.270557</td>\n",
       "    </tr>\n",
       "    <tr>\n",
       "      <th>255</th>\n",
       "      <td>0.333333</td>\n",
       "      <td>0.333333</td>\n",
       "      <td>-1.037393</td>\n",
       "      <td>-2.085297</td>\n",
       "      <td>-0.268518</td>\n",
       "    </tr>\n",
       "  </tbody>\n",
       "</table>\n",
       "<p>256 rows × 5 columns</p>\n",
       "</div>"
      ],
      "text/plain": [
       "            p         q  v_?J[01]  v_KJ[01]  v_QJ[01]\n",
       "0    0.333333  0.333333  0.253393  0.031782 -0.085364\n",
       "1    0.333333  0.333333  1.068813  0.685151  0.465528\n",
       "2    0.333333  0.333333  1.074450  0.029165  0.074021\n",
       "3    0.333333  0.333333  0.608339 -0.488714 -0.262401\n",
       "4    0.333333  0.333333  0.510397 -0.825797 -0.411283\n",
       "..        ...       ...       ...       ...       ...\n",
       "251  0.333333  0.333333 -0.768873 -1.939717  0.036598\n",
       "252  0.333333  0.333333 -1.375398 -1.926805  0.039856\n",
       "253  0.333333  0.333333 -0.840167 -2.021745 -0.087574\n",
       "254  0.333333  0.333333 -0.879993 -2.116560 -0.270557\n",
       "255  0.333333  0.333333 -1.037393 -2.085297 -0.268518\n",
       "\n",
       "[256 rows x 5 columns]"
      ]
     },
     "execution_count": 8,
     "metadata": {},
     "output_type": "execute_result"
    }
   ],
   "source": [
    "df"
   ]
  },
  {
   "cell_type": "code",
   "execution_count": null,
   "id": "96855bee",
   "metadata": {},
   "outputs": [],
   "source": [
    "plt.plot(df.index, df['v_?J[01]'])"
   ]
  },
  {
   "cell_type": "code",
   "execution_count": null,
   "id": "b73e9a7a",
   "metadata": {},
   "outputs": [],
   "source": [
    "data = df\n",
    "\n",
    "plt.figure(figsize=(8, 6)) \n",
    "plt.plot(data['p'], data['q'], marker='o', linestyle='-', color='b')\n",
    "plt.title('Trajectory in p-q Space') \n",
    "plt.xlabel('p')  \n",
    "plt.ylabel('q') \n",
    "plt.grid(True) \n",
    "\n",
    "# Annotate every 10th point with its order number\n",
    "for i, (p, q) in enumerate(zip(data['p'], data['q'])):\n",
    "    if i % 16 == 0: \n",
    "        plt.text(p, q, str(i), color=\"red\", fontsize=12)\n",
    "        \n",
    "plt.scatter([1/3], [1/3], color='green', s=100, marker='x', label='Target (1/3, 1/3)')\n",
    "\n",
    "plt.show()"
   ]
  },
  {
   "cell_type": "code",
   "execution_count": null,
   "id": "8d1c4344",
   "metadata": {},
   "outputs": [],
   "source": [
    "data = df\n",
    "\n",
    "plt.figure(figsize=(8, 6)) \n",
    "plt.plot(data['p'], data['q'], marker='o', linestyle='-', color='b')\n",
    "plt.title('Trajectory in p-q Space') \n",
    "plt.xlabel('p')  \n",
    "plt.ylabel('q') \n",
    "plt.grid(True) \n",
    "\n",
    "# Annotate every 10th point with its order number\n",
    "for i, (p, q) in enumerate(zip(data['p'], data['q'])):\n",
    "    if i % 16 == 0: \n",
    "        plt.text(p, q, str(i), color=\"red\", fontsize=12)\n",
    "        \n",
    "plt.scatter([1/3], [1/3], color='green', s=100, marker='x', label='Target (1/3, 1/3)')\n",
    "\n",
    "plt.show()"
   ]
  },
  {
   "cell_type": "code",
   "execution_count": null,
   "id": "ca7ec9f9",
   "metadata": {},
   "outputs": [],
   "source": [
    "with open('self_play_games/self_play_games.pkl', 'rb') as f:\n",
    "    games = pickle.load(f)"
   ]
  },
  {
   "cell_type": "code",
   "execution_count": null,
   "id": "da7de4d2",
   "metadata": {
    "scrolled": false
   },
   "outputs": [],
   "source": [
    "games"
   ]
  },
  {
   "cell_type": "code",
   "execution_count": null,
   "id": "e3781c10",
   "metadata": {},
   "outputs": [],
   "source": [
    "data = SelfPlayDataV(games)"
   ]
  },
  {
   "cell_type": "code",
   "execution_count": null,
   "id": "04cfd049",
   "metadata": {},
   "outputs": [],
   "source": [
    "subset = []\n",
    "for g in games:\n",
    "    if g.info_set.action_history == [0, 1] and g.info_set.cards ==[Card.QUEEN, None]:\n",
    "        subset.append(g)\n",
    "df = pd.DataFrame(subset)\n",
    "df['prob_1'] = df['action_dist'].apply(lambda x: x[1])"
   ]
  },
  {
   "cell_type": "code",
   "execution_count": null,
   "id": "57002385",
   "metadata": {},
   "outputs": [],
   "source": [
    "pd.DataFrame(data)"
   ]
  },
  {
   "cell_type": "code",
   "execution_count": null,
   "id": "9023227c",
   "metadata": {},
   "outputs": [],
   "source": [
    "df['prob_1'].describe()"
   ]
  },
  {
   "cell_type": "code",
   "execution_count": null,
   "id": "607743c1",
   "metadata": {},
   "outputs": [],
   "source": [
    "df['outcome'].value_counts()"
   ]
  },
  {
   "cell_type": "code",
   "execution_count": null,
   "id": "55bc4766",
   "metadata": {},
   "outputs": [],
   "source": [
    "policy_data = pd.DataFrame(games)"
   ]
  },
  {
   "cell_type": "code",
   "execution_count": null,
   "id": "6a15f68b",
   "metadata": {},
   "outputs": [],
   "source": [
    "policy_data"
   ]
  },
  {
   "cell_type": "code",
   "execution_count": null,
   "id": "e4aabe34",
   "metadata": {},
   "outputs": [],
   "source": []
  }
 ],
 "metadata": {
  "kernelspec": {
   "display_name": "Python 3 (ipykernel)",
   "language": "python",
   "name": "python3"
  },
  "language_info": {
   "codemirror_mode": {
    "name": "ipython",
    "version": 3
   },
   "file_extension": ".py",
   "mimetype": "text/x-python",
   "name": "python",
   "nbconvert_exporter": "python",
   "pygments_lexer": "ipython3",
   "version": "3.11.4"
  }
 },
 "nbformat": 4,
 "nbformat_minor": 5
}
