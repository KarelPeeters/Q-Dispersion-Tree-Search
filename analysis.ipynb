{
 "cells": [
  {
   "cell_type": "code",
   "execution_count": 1,
   "id": "998457b8",
   "metadata": {},
   "outputs": [],
   "source": [
    "%load_ext autoreload\n",
    "%autoreload 2"
   ]
  },
  {
   "cell_type": "code",
   "execution_count": 2,
   "id": "6569109e",
   "metadata": {},
   "outputs": [
    {
     "data": {
      "text/html": [
       "<style>.container { width:100% !important; }</style>"
      ],
      "text/plain": [
       "<IPython.core.display.HTML object>"
      ]
     },
     "execution_count": 2,
     "metadata": {},
     "output_type": "execute_result"
    }
   ],
   "source": [
    "from IPython.core.display import HTML\n",
    "HTML(\"<style>.container { width:100% !important; }</style>\")"
   ]
  },
  {
   "cell_type": "code",
   "execution_count": 3,
   "id": "86e88d93",
   "metadata": {},
   "outputs": [],
   "source": [
    "from KuhnPoker import KuhnPokerModel, KuhnPokerInfoSet, ActionNode, PASS, ADD_CHIP, Card\n",
    "from ISMCTS import Tree, Constants\n",
    "from AlphaZero import NNModel, SelfPlayDataV, SelfPlayDataP\n",
    "\n",
    "import numpy as np\n",
    "import pickle\n",
    "import pandas as pd\n",
    "from tqdm import tqdm\n",
    "\n",
    "import torch"
   ]
  },
  {
   "cell_type": "code",
   "execution_count": 4,
   "id": "023c5bf2",
   "metadata": {},
   "outputs": [],
   "source": [
    "with open('self_play_games/games.pkl', 'rb') as file:\n",
    "    games = pickle.load(file)"
   ]
  },
  {
   "cell_type": "code",
   "execution_count": 5,
   "id": "5b2d02b1",
   "metadata": {},
   "outputs": [
    {
     "data": {
      "text/plain": [
       "[TurnSnapshot(info_set=[0], cards=KQ, action_dist={0: 1.0, 1: 0.0}, action=0, game_id=0, gen_id=0, outcome=-1.0),\n",
       " TurnSnapshot(info_set=[0], cards=JQ, action_dist={0: 1.0, 1: 0.0}, action=0, game_id=1, gen_id=0, outcome=1.0),\n",
       " TurnSnapshot(info_set=[0], cards=JQ, action_dist={0: 1.0, 1: 0.0}, action=0, game_id=2, gen_id=0, outcome=1.0),\n",
       " TurnSnapshot(info_set=[0], cards=QJ, action_dist={0: 0.67, 1: 0.33}, action=0, game_id=3, gen_id=0, outcome=-1.0),\n",
       " TurnSnapshot(info_set=[0], cards=KJ, action_dist={0: 0.67, 1: 0.33}, action=1, game_id=4, gen_id=0, outcome=-2.0),\n",
       " TurnSnapshot(info_set=[01], cards=KJ, action_dist={0: 0.0, 1: 1.0}, action=1, game_id=4, gen_id=0, outcome=2.0),\n",
       " TurnSnapshot(info_set=[0], cards=KQ, action_dist={0: 1.0, 1: 0.0}, action=0, game_id=0, gen_id=1, outcome=-1.0),\n",
       " TurnSnapshot(info_set=[0], cards=JK, action_dist={0: 0.0, 1: 1.0}, action=1, game_id=1, gen_id=1, outcome=1.0),\n",
       " TurnSnapshot(info_set=[01], cards=JK, action_dist={0: 1.0, 1: 0.0}, action=0, game_id=1, gen_id=1, outcome=-1.0),\n",
       " TurnSnapshot(info_set=[0], cards=KJ, action_dist={0: 0.67, 1: 0.33}, action=1, game_id=2, gen_id=1, outcome=-2.0),\n",
       " TurnSnapshot(info_set=[01], cards=KJ, action_dist={0: 0.0, 1: 1.0}, action=1, game_id=2, gen_id=1, outcome=2.0),\n",
       " TurnSnapshot(info_set=[0], cards=QK, action_dist={0: 0.0, 1: 1.0}, action=1, game_id=3, gen_id=1, outcome=1.0),\n",
       " TurnSnapshot(info_set=[01], cards=QK, action_dist={0: 0.67, 1: 0.33}, action=0, game_id=3, gen_id=1, outcome=-1.0),\n",
       " TurnSnapshot(info_set=[0], cards=KJ, action_dist={0: 0.67, 1: 0.33}, action=0, game_id=4, gen_id=1, outcome=-1.0)]"
      ]
     },
     "execution_count": 5,
     "metadata": {},
     "output_type": "execute_result"
    }
   ],
   "source": [
    "games"
   ]
  },
  {
   "cell_type": "code",
   "execution_count": 6,
   "id": "9efba2ab",
   "metadata": {},
   "outputs": [],
   "source": [
    "vmodel = torch.load('model/vmodel.pt')"
   ]
  },
  {
   "cell_type": "code",
   "execution_count": 7,
   "id": "b9483d0a",
   "metadata": {},
   "outputs": [],
   "source": [
    "datasetV = SelfPlayDataV(games)"
   ]
  },
  {
   "cell_type": "code",
   "execution_count": 8,
   "id": "1a91f7dd",
   "metadata": {},
   "outputs": [
    {
     "data": {
      "text/plain": [
       "[array([[-2.6725233e-05],\n",
       "        [-1.3999518e+00],\n",
       "        [-9.9993420e-01]], dtype=float32),\n",
       " array([[-2.6725233e-05],\n",
       "        [ 9.9995345e-01],\n",
       "        [ 9.9997985e-01]], dtype=float32),\n",
       " array([[-2.6725233e-05],\n",
       "        [ 9.9995345e-01],\n",
       "        [ 9.9997985e-01]], dtype=float32),\n",
       " array([[-1.4999245e+00],\n",
       "        [-1.4086813e-04],\n",
       "        [-9.9986577e-01]], dtype=float32),\n",
       " array([[-1.4999245],\n",
       "        [-1.3999518],\n",
       "        [-1.6666752]], dtype=float32),\n",
       " array([[1.9996841],\n",
       "        [1.9998766],\n",
       "        [1.9999325]], dtype=float32),\n",
       " array([[-2.6725233e-05],\n",
       "        [-1.3999518e+00],\n",
       "        [-9.9993420e-01]], dtype=float32),\n",
       " array([[0.9999925 ],\n",
       "        [0.99995345],\n",
       "        [1.0000215 ]], dtype=float32),\n",
       " array([[-1.000065 ],\n",
       "        [-0.9999453],\n",
       "        [-1.0000079]], dtype=float32),\n",
       " array([[-1.4999245],\n",
       "        [-1.3999518],\n",
       "        [-1.6666752]], dtype=float32),\n",
       " array([[1.9996841],\n",
       "        [1.9998766],\n",
       "        [1.9999325]], dtype=float32),\n",
       " array([[ 9.9999249e-01],\n",
       "        [-1.4086813e-04],\n",
       "        [ 9.9984515e-01]], dtype=float32),\n",
       " array([[-0.9990897 ],\n",
       "        [-0.9999453 ],\n",
       "        [-0.99988675]], dtype=float32),\n",
       " array([[-1.4999245],\n",
       "        [-1.3999518],\n",
       "        [-1.6666752]], dtype=float32)]"
      ]
     },
     "execution_count": 8,
     "metadata": {},
     "output_type": "execute_result"
    }
   ],
   "source": [
    "[vmodel(x).detach().numpy() for x, v in datasetV]"
   ]
  },
  {
   "cell_type": "code",
   "execution_count": 10,
   "id": "23dc8c48",
   "metadata": {},
   "outputs": [],
   "source": [
    "pmodel = torch.load('model/pmodel.pt')"
   ]
  },
  {
   "cell_type": "code",
   "execution_count": 11,
   "id": "c7e90a10",
   "metadata": {},
   "outputs": [],
   "source": [
    "datasetP = SelfPlayDataP(games)"
   ]
  },
  {
   "cell_type": "code",
   "execution_count": 12,
   "id": "519c554f",
   "metadata": {},
   "outputs": [
    {
     "data": {
      "text/plain": [
       "[0.011273608,\n",
       " 0.011273608,\n",
       " 0.011273608,\n",
       " 0.32974765,\n",
       " 0.32974765,\n",
       " 0.9957361,\n",
       " 0.011273608,\n",
       " 0.9888207,\n",
       " 0.008277346,\n",
       " 0.32974765,\n",
       " 0.9957361,\n",
       " 0.9888207,\n",
       " 0.33009255,\n",
       " 0.32974765]"
      ]
     },
     "execution_count": 12,
     "metadata": {},
     "output_type": "execute_result"
    }
   ],
   "source": [
    "[pmodel(x).detach().numpy()[0] for x, p in datasetP]"
   ]
  },
  {
   "cell_type": "code",
   "execution_count": 13,
   "id": "7cc6f2b2",
   "metadata": {},
   "outputs": [
    {
     "data": {
      "text/plain": [
       "[(tensor([ 0., -1., -1., -1.,  1.]), tensor([0.])),\n",
       " (tensor([ 0., -1., -1., -1.,  1.]), tensor([0.])),\n",
       " (tensor([ 0., -1., -1., -1.,  1.]), tensor([0.])),\n",
       " (tensor([ 0., -1., -1., -1.,  0.]), tensor([0.3300])),\n",
       " (tensor([ 0., -1., -1., -1.,  0.]), tensor([0.3300])),\n",
       " (tensor([ 0.,  1., -1.,  2., -1.]), tensor([1.])),\n",
       " (tensor([ 0., -1., -1., -1.,  1.]), tensor([0.])),\n",
       " (tensor([ 0., -1., -1., -1.,  2.]), tensor([1.])),\n",
       " (tensor([ 0.,  1., -1.,  0., -1.]), tensor([0.])),\n",
       " (tensor([ 0., -1., -1., -1.,  0.]), tensor([0.3300])),\n",
       " (tensor([ 0.,  1., -1.,  2., -1.]), tensor([1.])),\n",
       " (tensor([ 0., -1., -1., -1.,  2.]), tensor([1.])),\n",
       " (tensor([ 0.,  1., -1.,  1., -1.]), tensor([0.3300])),\n",
       " (tensor([ 0., -1., -1., -1.,  0.]), tensor([0.3300]))]"
      ]
     },
     "execution_count": 13,
     "metadata": {},
     "output_type": "execute_result"
    }
   ],
   "source": [
    "list(datasetP)"
   ]
  },
  {
   "cell_type": "code",
   "execution_count": null,
   "id": "663eb522",
   "metadata": {},
   "outputs": [],
   "source": []
  }
 ],
 "metadata": {
  "kernelspec": {
   "display_name": "Python 3 (ipykernel)",
   "language": "python",
   "name": "python3"
  },
  "language_info": {
   "codemirror_mode": {
    "name": "ipython",
    "version": 3
   },
   "file_extension": ".py",
   "mimetype": "text/x-python",
   "name": "python",
   "nbconvert_exporter": "python",
   "pygments_lexer": "ipython3",
   "version": "3.11.4"
  }
 },
 "nbformat": 4,
 "nbformat_minor": 5
}
